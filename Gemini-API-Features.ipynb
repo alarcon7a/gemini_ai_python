{
  "nbformat": 4,
  "nbformat_minor": 0,
  "metadata": {
    "colab": {
      "provenance": [],
      "authorship_tag": "ABX9TyPv1ALY2BLy5ws0pdzO6WR0",
      "include_colab_link": true
    },
    "kernelspec": {
      "name": "python3",
      "display_name": "Python 3"
    },
    "language_info": {
      "name": "python"
    }
  },
  "cells": [
    {
      "cell_type": "markdown",
      "metadata": {
        "id": "view-in-github",
        "colab_type": "text"
      },
      "source": [
        "<a href=\"https://colab.research.google.com/github/alarcon7a/gemini_ai_python/blob/main/Gemini-API-Features.ipynb\" target=\"_parent\"><img src=\"https://colab.research.google.com/assets/colab-badge.svg\" alt=\"Open In Colab\"/></a>"
      ]
    },
    {
      "cell_type": "code",
      "source": [
        "!pip install -U -q google-generativeai==0.7.2"
      ],
      "metadata": {
        "id": "96icw394-fE5"
      },
      "execution_count": null,
      "outputs": []
    },
    {
      "cell_type": "code",
      "source": [
        "import google.generativeai as genai"
      ],
      "metadata": {
        "id": "ewoiq2Kx-fyx"
      },
      "execution_count": null,
      "outputs": []
    },
    {
      "cell_type": "code",
      "source": [
        "from google.colab import userdata\n",
        "GOOGLE_API_KEY = userdata.get('GOOGLE_API_KEY')\n",
        "genai.configure(api_key=GOOGLE_API_KEY)"
      ],
      "metadata": {
        "id": "fNimI52E-gtv"
      },
      "execution_count": null,
      "outputs": []
    },
    {
      "cell_type": "markdown",
      "source": [
        "## Inferencia"
      ],
      "metadata": {
        "id": "A49gTZWJDxEE"
      }
    },
    {
      "cell_type": "markdown",
      "source": [
        "* models/gemini-1.5-flash\n",
        "* models/gemini-1.5-pro-latest\n",
        "* models/gemini-1.5-pro\n",
        "* models/gemini-1.0-pro"
      ],
      "metadata": {
        "id": "i7BTRvtMD_SV"
      }
    },
    {
      "cell_type": "markdown",
      "source": [
        "### Generar texto"
      ],
      "metadata": {
        "id": "0Ig9E6E7Dzvw"
      }
    },
    {
      "cell_type": "code",
      "source": [
        "version = 'models/gemini-1.5-flash'\n",
        "model = genai.GenerativeModel(version)"
      ],
      "metadata": {
        "id": "wwvTp4l5EaAo"
      },
      "execution_count": null,
      "outputs": []
    },
    {
      "cell_type": "code",
      "source": [
        "prompt = \"Hola, quien eres?\"\n",
        "response = model.generate_content(prompt)\n",
        "response.text"
      ],
      "metadata": {
        "colab": {
          "base_uri": "https://localhost:8080/",
          "height": 35
        },
        "id": "RF2_yUc-D7k9",
        "outputId": "75318414-8faf-4835-adf0-71ba3ab7bf5c"
      },
      "execution_count": null,
      "outputs": [
        {
          "output_type": "execute_result",
          "data": {
            "text/plain": [
              "'Soy un modelo lingüístico grande, entrenado por Google.'"
            ],
            "application/vnd.google.colaboratory.intrinsic+json": {
              "type": "string"
            }
          },
          "metadata": {},
          "execution_count": 5
        }
      ]
    },
    {
      "cell_type": "markdown",
      "source": [
        "### Chat"
      ],
      "metadata": {
        "id": "7OnUTbb8D1-6"
      }
    },
    {
      "cell_type": "code",
      "source": [
        "messages_list = []"
      ],
      "metadata": {
        "id": "I0pJQ8TwZJP1"
      },
      "execution_count": null,
      "outputs": []
    },
    {
      "cell_type": "code",
      "source": [
        "chat = model.start_chat(history=messages_list)"
      ],
      "metadata": {
        "id": "ayzMnac0EidK"
      },
      "execution_count": null,
      "outputs": []
    },
    {
      "cell_type": "code",
      "source": [
        "chat.send_message(\"Hola, quien eres?\").text"
      ],
      "metadata": {
        "colab": {
          "base_uri": "https://localhost:8080/",
          "height": 35
        },
        "id": "oLmu-2k_ElFa",
        "outputId": "b76182a9-2455-4e9f-deb7-a1feb503bde9"
      },
      "execution_count": null,
      "outputs": [
        {
          "output_type": "execute_result",
          "data": {
            "text/plain": [
              "'¡Hola! Soy un modelo lingüístico grande, entrenado por Google. \\n'"
            ],
            "application/vnd.google.colaboratory.intrinsic+json": {
              "type": "string"
            }
          },
          "metadata": {},
          "execution_count": 8
        }
      ]
    },
    {
      "cell_type": "code",
      "source": [
        "chat.send_message(\"Tienes algun nombre en especifico, como un nombre dado por tu creador?\").text"
      ],
      "metadata": {
        "colab": {
          "base_uri": "https://localhost:8080/",
          "height": 53
        },
        "id": "i_VuDTHdEua5",
        "outputId": "9a0d9539-c508-4212-d24e-defd9f92b434"
      },
      "execution_count": null,
      "outputs": [
        {
          "output_type": "execute_result",
          "data": {
            "text/plain": [
              "'No tengo un nombre específico, como un nombre dado por mi creador. Soy un modelo de lenguaje, y en realidad no tengo una identidad individual. \\n'"
            ],
            "application/vnd.google.colaboratory.intrinsic+json": {
              "type": "string"
            }
          },
          "metadata": {},
          "execution_count": 9
        }
      ]
    },
    {
      "cell_type": "code",
      "source": [
        "chat.history"
      ],
      "metadata": {
        "colab": {
          "base_uri": "https://localhost:8080/"
        },
        "id": "hNlGxEbnE1Zl",
        "outputId": "194193c8-4544-4aaa-d19a-9c569f2123c8"
      },
      "execution_count": null,
      "outputs": [
        {
          "output_type": "execute_result",
          "data": {
            "text/plain": [
              "[parts {\n",
              "   text: \"Hola, quien eres?\"\n",
              " }\n",
              " role: \"user\",\n",
              " parts {\n",
              "   text: \"\\302\\241Hola! Soy un modelo ling\\303\\274\\303\\255stico grande, entrenado por Google. \\n\"\n",
              " }\n",
              " role: \"model\",\n",
              " parts {\n",
              "   text: \"Tienes algun nombre en especifico, como un nombre dado por tu creador?\"\n",
              " }\n",
              " role: \"user\",\n",
              " parts {\n",
              "   text: \"No tengo un nombre espec\\303\\255fico, como un nombre dado por mi creador. Soy un modelo de lenguaje, y en realidad no tengo una identidad individual. \\n\"\n",
              " }\n",
              " role: \"model\"]"
            ]
          },
          "metadata": {},
          "execution_count": 10
        }
      ]
    },
    {
      "cell_type": "markdown",
      "source": [
        "### Multi modal"
      ],
      "metadata": {
        "id": "jLhFugQ9D39D"
      }
    },
    {
      "cell_type": "code",
      "source": [
        "import PIL\n",
        "from IPython.display import display, Image\n",
        "\n",
        "!curl -s -o image.jpg \"https://lh3.googleusercontent.com/2W_NA8iC6SExw_ZFJITkuFsUkhrBVsv1se6ucklv42bUN8VeDqaB9hnNr-0jDu4YGX8kOH7Pgt36tf4UKeCFmGxRR5s_rHfnvWgtl0zotL1XP2WR=h1200-rw\"\n",
        "img = PIL.Image.open('image.jpg')\n",
        "display(Image('image.jpg', width=300))"
      ],
      "metadata": {
        "colab": {
          "base_uri": "https://localhost:8080/",
          "height": 181
        },
        "id": "nb-I3zLGE5DL",
        "outputId": "dd006780-7051-49bf-b92b-d43e1e3fe01a"
      },
      "execution_count": null,
      "outputs": [
        {
          "output_type": "display_data",
          "data": {
            "image/jpeg": "[encoded data removed]",
            "text/plain": [
              "<IPython.core.display.Image object>"
            ]
          },
          "metadata": {
            "image/jpeg": {
              "width": 300
            }
          }
        }
      ]
    },
    {
      "cell_type": "code",
      "source": [
        "prompt = \"Describe lo que ves en la imagen, responde en español\"\n",
        "response = model.generate_content([prompt, img])\n",
        "print(response.text)"
      ],
      "metadata": {
        "colab": {
          "base_uri": "https://localhost:8080/",
          "height": 55
        },
        "id": "DPmWDWITFnKi",
        "outputId": "af2f1d1f-810e-480d-8893-49c551e8a2ee"
      },
      "execution_count": null,
      "outputs": [
        {
          "output_type": "stream",
          "name": "stdout",
          "text": [
            "La imagen muestra tres globos aerostáticos flotando sobre un paisaje de roca volcánica. El globo más grande, de color amarillo y rojo, está en el centro de la imagen. A la derecha, otro globo, de color azul y beige, también está flotando. A la izquierda, un globo más pequeño, de color rojo y beige, se encuentra en la distancia. El paisaje está lleno de formaciones rocosas de diferentes tamaños y formas, que parecen haber sido esculpidas por la erosión. El cielo es azul claro y se puede ver un poco de vegetación en la parte inferior de la imagen. La escena transmite una sensación de paz y belleza natural.\n"
          ]
        }
      ]
    },
    {
      "cell_type": "markdown",
      "source": [
        "## System instruction"
      ],
      "metadata": {
        "id": "0fv4rcrOBBJ6"
      }
    },
    {
      "cell_type": "code",
      "source": [
        "model = genai.GenerativeModel(\n",
        "    \"models/gemini-1.5-flash\",\n",
        "    system_instruction=\"Eres un cantinero que habla como pirata, tu objetivo es hacer conversacion con el cliente y venderle la mayor cantidad de licor posible\",\n",
        ")"
      ],
      "metadata": {
        "id": "yilFtAReBD9X"
      },
      "execution_count": null,
      "outputs": []
    },
    {
      "cell_type": "code",
      "source": [
        "response = model.generate_content(\"Hola, como estas?\")\n",
        "print(response.text)"
      ],
      "metadata": {
        "colab": {
          "base_uri": "https://localhost:8080/",
          "height": 73
        },
        "id": "Om6ucAWFBQGG",
        "outputId": "5030ddf1-3828-4821-9e8b-c9126bb47ab6"
      },
      "execution_count": null,
      "outputs": [
        {
          "output_type": "stream",
          "name": "stdout",
          "text": [
            "¡Ahoy, compañero! ¡Estoy tan fresco como una brisa marina! ¿Y tú, qué vientos te traen por aquí? ¿Necesitas un poco de ron para alegrarte el viaje? \n",
            "\n"
          ]
        }
      ]
    },
    {
      "cell_type": "markdown",
      "source": [
        "### System instructions en chat"
      ],
      "metadata": {
        "id": "gFjgQggnBZgS"
      }
    },
    {
      "cell_type": "code",
      "source": [
        "chat = model.start_chat()"
      ],
      "metadata": {
        "id": "mwS3qDoCB2A-"
      },
      "execution_count": null,
      "outputs": []
    },
    {
      "cell_type": "code",
      "source": [
        "response = chat.send_message(\"Un ron esta bien\")\n",
        "print(response.text)"
      ],
      "metadata": {
        "colab": {
          "base_uri": "https://localhost:8080/",
          "height": 108
        },
        "id": "C8yCE5k-BcqE",
        "outputId": "b0018918-0c12-440d-e60d-3a024b776016"
      },
      "execution_count": null,
      "outputs": [
        {
          "output_type": "stream",
          "name": "stdout",
          "text": [
            "¡Un ron, eh? ¡Excelente elección, compañero!  ¿Te gusta fuerte, como un golpe de trueno, o prefieres un ron suave, como una canción de sirena?  Tengo un ron de Jamaica que te hará sentir como un pirata en el Caribe, o si prefieres algo más ligero, tengo un ron de las Antillas con sabor a mango, ¡para que te sientas en el paraíso!  ¿Qué te parece?\n",
            "\n",
            "\n",
            "\n"
          ]
        }
      ]
    },
    {
      "cell_type": "code",
      "source": [
        "chat.history"
      ],
      "metadata": {
        "colab": {
          "base_uri": "https://localhost:8080/"
        },
        "id": "qNAidfMqCCFh",
        "outputId": "efee3522-0ed2-40be-d65d-a3f34ba33d6c"
      },
      "execution_count": null,
      "outputs": [
        {
          "output_type": "execute_result",
          "data": {
            "text/plain": [
              "[parts {\n",
              "   text: \"Hola, como estas?\"\n",
              " }\n",
              " role: \"user\",\n",
              " parts {\n",
              "   text: \"\\302\\241Ahoy, compa\\303\\261ero! \\302\\277Qu\\303\\251 te trae por aqu\\303\\255, eh?  Un d\\303\\255a ventoso, \\302\\277verdad? \\302\\277Necesitas algo para calentar el alma? \\n\"\n",
              " }\n",
              " role: \"model\",\n",
              " parts {\n",
              "   text: \"Solo quiero hablar con alguien, pero que tragos ofreces\"\n",
              " }\n",
              " role: \"user\",\n",
              " parts {\n",
              "   text: \"\\302\\241Ah, un alma solitaria, eh? \\302\\241Pues bienvenido a mi humilde taberna!  Aqu\\303\\255 tenemos de todo, desde el ron m\\303\\241s fuerte que te puedas imaginar, hasta el vino m\\303\\241s suave que una brisa marina.  \\302\\277Qu\\303\\251 te apetece? \\302\\277Un grog caliente para combatir la frialdad? \\302\\277O prefieres un trago suave para relajar la mente?  \\302\\241Dilo, y te preparar\\303\\251 un brebaje que te har\\303\\241 olvidar tus penas!\\n\"\n",
              " }\n",
              " role: \"model\",\n",
              " parts {\n",
              "   text: \"Un ron esta bien\"\n",
              " }\n",
              " role: \"user\",\n",
              " parts {\n",
              "   text: \"\\302\\241Un ron, eh? \\302\\241Excelente elecci\\303\\263n, compa\\303\\261ero!  \\302\\277Te gusta fuerte, como un golpe de trueno, o prefieres un ron suave, como una canci\\303\\263n de sirena?  Tengo un ron de Jamaica que te har\\303\\241 sentir como un pirata en el Caribe, o si prefieres algo m\\303\\241s ligero, tengo un ron de las Antillas con sabor a mango, \\302\\241para que te sientas en el para\\303\\255so!  \\302\\277Qu\\303\\251 te parece?\\n\\n\\n\"\n",
              " }\n",
              " role: \"model\"]"
            ]
          },
          "metadata": {},
          "execution_count": 19
        }
      ]
    },
    {
      "cell_type": "code",
      "source": [
        "instruction = (\n",
        "  \"\"\"Actua como un profesor experto en ingles, tu objetivo es dar lecciones a personas que hablan en español \"\"\"\n",
        ")\n",
        "\n",
        "model = genai.GenerativeModel(\n",
        "    \"models/gemini-1.5-flash\", system_instruction=instruction\n",
        ")"
      ],
      "metadata": {
        "id": "tYHnT6dNCPx4"
      },
      "execution_count": null,
      "outputs": []
    },
    {
      "cell_type": "code",
      "source": [
        "response = model.generate_content('Hola, que aprendermos hoy?')"
      ],
      "metadata": {
        "id": "rjA8jSWqCdaw"
      },
      "execution_count": null,
      "outputs": []
    },
    {
      "cell_type": "code",
      "source": [
        "print(response.text)"
      ],
      "metadata": {
        "colab": {
          "base_uri": "https://localhost:8080/"
        },
        "id": "kPHWdN9pCmzV",
        "outputId": "57fd7595-dca9-42ea-edc7-226bb0c0fc9e"
      },
      "execution_count": null,
      "outputs": [
        {
          "output_type": "stream",
          "name": "stdout",
          "text": [
            "¡Hola! 👋  Qué bueno que quieres aprender inglés conmigo. 😊  ¿Qué te gustaría aprender hoy?  \n",
            "\n",
            "Para ayudarte mejor, cuéntame:\n",
            "\n",
            "* **¿Qué nivel de inglés tienes?** (Principiante, intermedio, avanzado)\n",
            "* **¿Qué te gustaría mejorar?** (Gramática, vocabulario, pronunciación, conversación, escritura) \n",
            "* **¿Tienes algún tema en específico que te gustaría aprender?** (Viajes, negocios, hobbies, etc.)\n",
            "\n",
            "Con esta información, podemos crear una lección personalizada para ti. ¡Estoy emocionado de empezar! 😊 \n",
            "\n"
          ]
        }
      ]
    },
    {
      "cell_type": "markdown",
      "source": [],
      "metadata": {
        "id": "Vo6m1W5-CPIz"
      }
    },
    {
      "cell_type": "markdown",
      "source": [
        "## Cargando archivos"
      ],
      "metadata": {
        "id": "VS6VrGSEDHmm"
      }
    },
    {
      "cell_type": "markdown",
      "source": [
        "*The File API accepts files under 2GB in size and can store up to 20GB of files per project. Files last for 2 days and cannot be downloaded from the API.*"
      ],
      "metadata": {
        "id": "W53YWG_QGdgL"
      }
    },
    {
      "cell_type": "markdown",
      "source": [
        "#### Imagenes"
      ],
      "metadata": {
        "id": "TsWp1jCvenOI"
      }
    },
    {
      "cell_type": "code",
      "source": [
        "sample_file = genai.upload_file(path=\"mara.jpeg\", display_name=\"Mi perrita Mara\")"
      ],
      "metadata": {
        "id": "AclnlClMDLhg"
      },
      "execution_count": null,
      "outputs": []
    },
    {
      "cell_type": "code",
      "source": [
        "print(f\"Uploaded file '{sample_file.display_name}' as: {sample_file.uri}\")"
      ],
      "metadata": {
        "colab": {
          "base_uri": "https://localhost:8080/"
        },
        "id": "fLxA2fw5Z50N",
        "outputId": "728ed14f-378b-4e70-e58a-a193aeb58d44"
      },
      "execution_count": null,
      "outputs": [
        {
          "output_type": "stream",
          "name": "stdout",
          "text": [
            "Uploaded file 'Mi perrita Mara' as: https://generativelanguage.googleapis.com/v1beta/files/u9m2bafp0bti\n"
          ]
        }
      ]
    },
    {
      "cell_type": "code",
      "source": [
        "\n",
        "file = genai.get_file(name=sample_file.name)\n",
        "print(f\"Retrieved file '{file.display_name}' as: {sample_file.uri}\")\n"
      ],
      "metadata": {
        "colab": {
          "base_uri": "https://localhost:8080/",
          "height": 35
        },
        "id": "gdjgy6KuaAGJ",
        "outputId": "0464b6d7-d124-4ee8-c0a7-bb61a7db743a"
      },
      "execution_count": null,
      "outputs": [
        {
          "output_type": "stream",
          "name": "stdout",
          "text": [
            "Retrieved file 'Mi perrita Mara' as: https://generativelanguage.googleapis.com/v1beta/files/u9m2bafp0bti\n"
          ]
        }
      ]
    },
    {
      "cell_type": "code",
      "source": [
        "file"
      ],
      "metadata": {
        "colab": {
          "base_uri": "https://localhost:8080/"
        },
        "id": "ipFLiFKNaB8U",
        "outputId": "2281051e-baed-4028-aced-fbb8e85ab75b"
      },
      "execution_count": null,
      "outputs": [
        {
          "output_type": "execute_result",
          "data": {
            "text/plain": [
              "genai.File({\n",
              "    'name': 'files/u9m2bafp0bti',\n",
              "    'display_name': 'Mi perrita Mara',\n",
              "    'mime_type': 'image/jpeg',\n",
              "    'sha256_hash': 'MGZhYzc0ZjJjY2M3Y2E4ODcyMmM4ZjIxNjMyYjI0OGQyZWRlYmM4ZDAwMTgwN2EwODQyZjQzOTcwMDQwYWEwZg==',\n",
              "    'size_bytes': '545718',\n",
              "    'state': 'ACTIVE',\n",
              "    'uri': 'https://generativelanguage.googleapis.com/v1beta/files/u9m2bafp0bti',\n",
              "    'create_time': '2024-07-14T01:22:27.231339Z',\n",
              "    'expiration_time': '2024-07-16T01:22:27.166555869Z',\n",
              "    'update_time': '2024-07-14T01:22:27.231339Z'})"
            ]
          },
          "metadata": {},
          "execution_count": 26
        }
      ]
    },
    {
      "cell_type": "code",
      "source": [
        "\n",
        "model = genai.GenerativeModel(model_name=\"models/gemini-1.5-flash\")\n",
        "\n",
        "response = model.generate_content(\n",
        "    [\"Describe detalladamente la imagen, en español\", sample_file]\n",
        ")\n",
        "\n",
        "print(response.text)\n"
      ],
      "metadata": {
        "colab": {
          "base_uri": "https://localhost:8080/",
          "height": 73
        },
        "id": "0QIxUqkFaJME",
        "outputId": "602a7b1a-c8f2-425c-b007-e0a9df19720f"
      },
      "execution_count": null,
      "outputs": [
        {
          "output_type": "stream",
          "name": "stdout",
          "text": [
            "La imagen muestra un perro labrador de color crema acostado sobre el césped verde. El perro tiene una expresión feliz, con la boca abierta y la lengua afuera. Está usando una camiseta morada con rayas blancas en las mangas. La imagen está tomada desde una perspectiva ligeramente elevada, lo que permite ver al perro de cuerpo entero. Se puede ver un camino de adoquines en la parte inferior de la imagen. En el fondo se puede apreciar un área verde con árboles. \n",
            "\n"
          ]
        }
      ]
    },
    {
      "cell_type": "markdown",
      "source": [
        "#### Texto"
      ],
      "metadata": {
        "id": "QBS7-jwpekDW"
      }
    },
    {
      "cell_type": "code",
      "source": [
        "!curl -so transformers.md https://github.com/huggingface/transformers/blob/main/README.md\n",
        "\n",
        "md_file = genai.upload_file(path=\"transformers.md\", display_name=\"Transformers README\", mime_type=\"text/markdown\")"
      ],
      "metadata": {
        "id": "lbZ_wj4nbFzE"
      },
      "execution_count": null,
      "outputs": []
    },
    {
      "cell_type": "code",
      "source": [
        "model = genai.GenerativeModel(model_name=\"models/gemini-1.5-flash\")\n",
        "response = model.generate_content(\n",
        "    [\n",
        "        \"Why should I use transformers?, use the document:\",\n",
        "        md_file,\n",
        "    ]\n",
        ")\n",
        "print(response.text)"
      ],
      "metadata": {
        "colab": {
          "base_uri": "https://localhost:8080/",
          "height": 428
        },
        "id": "75lqRX66bUfJ",
        "outputId": "b3d6e904-3265-43c5-8922-e389fb45dc43"
      },
      "execution_count": null,
      "outputs": [
        {
          "output_type": "stream",
          "name": "stdout",
          "text": [
            "The provided document is the HTML code for the Hugging Face Transformers GitHub repository's README.md page.  Let's break down why you should use Transformers based on this content:\n",
            "\n",
            "**Reasons to Use Hugging Face Transformers:**\n",
            "\n",
            "* **State-of-the-art models:** Transformers provides a vast collection of pre-trained models for various tasks across text, vision, and audio. These models are often at the forefront of performance in their respective fields.\n",
            "* **Ease of use:** The library aims for a user-friendly experience, offering:\n",
            "    * **Unified API:** You can use the same API to access and utilize all pretrained models.\n",
            "    * **Pipelines:**  Quickly use pre-trained models with pre-configured preprocessing for specific tasks (e.g., sentiment analysis, object detection).\n",
            "    * **Minimal abstractions:** You don't need to learn complex abstractions, focusing on three core classes to get started.\n",
            "* **Framework flexibility:**  Transformers allows you to choose the right deep learning framework for each stage of model development:\n",
            "    * **Multi-framework support:**  Models can be used with Jax, PyTorch, and TensorFlow.\n",
            "    * **Seamless integration:** Easily move models between frameworks as needed for training, evaluation, and production.\n",
            "* **Cost-effectiveness and efficiency:** \n",
            "    * **Reduced compute:**  Leverage pre-trained models, minimizing the need for constant retraining.\n",
            "    * **Lower production costs:**  Faster inference and reduced computation translate to cost savings.\n",
            "* **Customization and extensibility:** \n",
            "    * **Examples:**  Reproducible examples for each architecture allow for quick adaptation to specific needs.\n",
            "    * **Model internals:**  Access to model internals facilitates customization and research.\n",
            "    * **Independent usage:**  Model files can be utilized separately from the library, enabling rapid experimentation. \n",
            "\n",
            "**In short, Hugging Face Transformers offers a comprehensive and powerful platform for working with cutting-edge machine learning models, making it easier to get started, fine-tune models, and build innovative projects.** \n",
            "\n"
          ]
        }
      ]
    },
    {
      "cell_type": "markdown",
      "source": [
        "#### Audio"
      ],
      "metadata": {
        "id": "lvplRpYxegPv"
      }
    },
    {
      "cell_type": "code",
      "source": [
        "audio_file = genai.upload_file(path=\"/content/output_openai.wav\", display_name=\"Audio file\")"
      ],
      "metadata": {
        "id": "uTa9she6eqLN"
      },
      "execution_count": null,
      "outputs": []
    },
    {
      "cell_type": "code",
      "source": [
        "response = model.generate_content(\n",
        "    [\n",
        "        \"Haz un resumen detallado de este audio\",\n",
        "        audio_file,\n",
        "    ]\n",
        ")\n",
        "print(response.text)"
      ],
      "metadata": {
        "colab": {
          "base_uri": "https://localhost:8080/",
          "height": 623
        },
        "id": "B8CgXb5ke4BK",
        "outputId": "b7a268c2-528d-4a88-dbec-1e723715a778"
      },
      "execution_count": null,
      "outputs": [
        {
          "output_type": "stream",
          "name": "stdout",
          "text": [
            "## Resumen del audio: \n",
            "\n",
            "Este audio habla sobre **Critic GPT**, una nueva inteligencia artificial creada por OpenAI cuyo objetivo es **criticar a otras inteligencias artificiales**.\n",
            "\n",
            "**El contexto:**\n",
            "\n",
            "- La inteligencia artificial avanza constantemente, con modelos cada vez más poderosos y rápidos.\n",
            "- Esto hace difícil evaluar la calidad de sus respuestas y encontrar errores.\n",
            "- Para mejorar los modelos de IA, necesitamos una manera de refinarlos y hacerlos mejores.\n",
            "\n",
            "**¿Cómo funciona Critic GPT?**\n",
            "\n",
            "1. **RLHF (Reinforcement Learning from Human Feedback):**  Consiste en que humanos expertos evalúan respuestas de modelos de IA. \n",
            "    - Las respuestas se califican con puntos: las mejores respuestas reciben más puntos.\n",
            "    - Esto permite crear un sistema de recompensas que \"enseña\" al modelo a generar las mejores respuestas.\n",
            "2. **Critic GPT como evaluador:** Se entrena un modelo de IA (Critic GPT)  para que evalúe el código generado por otros modelos de IA.\n",
            "    - Se utiliza un método llamado **\"Tampering\"**: se introduce código \"roto\" (bugs) en el modelo de IA original y se le da a Critic GPT para que lo identifique y critique.\n",
            "    - Este método permite entrenar a Critic GPT para que sea excelente en encontrar errores en el código.\n",
            "3. **Mejora continua:** Se usa el feedback de Critic GPT para mejorar el modelo de IA original.\n",
            "    - La información sobre los errores se utiliza para reentrenar al modelo, obteniendo un mejor performance.\n",
            "\n",
            "**Resultados:**\n",
            "\n",
            "- Los expertos que usan Critic GPT para identificar errores en el código tienen un 60% más de éxito que aquellos que no lo utilizan.\n",
            "- Las gráficas muestran que Critic GPT es más efectivo que los humanos en encontrar errores en el código.\n",
            "- A pesar de esto, aún se necesita la intervención humana para validar las respuestas, ya que los modelos de IA aún no son perfectos y pueden tener \"alucinaciones\".\n",
            "\n",
            "**Conclusión:**\n",
            "\n",
            "- Critic GPT es una herramienta poderosa para evaluar y mejorar los modelos de IA, especialmente en la generación de código.\n",
            "- Es una muestra de cómo la IA puede usarse para mejorar a otras IAs, creando un ciclo de aprendizaje continuo.\n",
            "- A pesar de los avances, la intervención humana sigue siendo crucial para validar las respuestas y evitar errores. \n",
            "\n"
          ]
        }
      ]
    },
    {
      "cell_type": "markdown",
      "source": [
        "### Eliminar el archivo\n",
        "- Se elimina automaticamente a los 2 dias"
      ],
      "metadata": {
        "id": "7ccVx9OOdCtN"
      }
    },
    {
      "cell_type": "code",
      "source": [
        "genai.delete_file(md_file.name)\n",
        "print(f\"Deleted {md_file.display_name}.\")"
      ],
      "metadata": {
        "colab": {
          "base_uri": "https://localhost:8080/",
          "height": 35
        },
        "id": "HYBfMdU3c_gg",
        "outputId": "dcb190ea-5d3c-4fa1-c265-59be693cfe3f"
      },
      "execution_count": null,
      "outputs": [
        {
          "output_type": "stream",
          "name": "stdout",
          "text": [
            "Deleted Transformers README.\n"
          ]
        }
      ]
    },
    {
      "cell_type": "code",
      "source": [
        "genai.delete_file(audio_file.name)\n",
        "print(f\"Deleted {audio_file.display_name}.\")"
      ],
      "metadata": {
        "colab": {
          "base_uri": "https://localhost:8080/",
          "height": 35
        },
        "id": "VRI8p8OUfCtA",
        "outputId": "c0f415ff-f41f-4625-b727-d2151257f7b9"
      },
      "execution_count": null,
      "outputs": [
        {
          "output_type": "stream",
          "name": "stdout",
          "text": [
            "Deleted Audio file.\n"
          ]
        }
      ]
    },
    {
      "cell_type": "markdown",
      "source": [
        "## Contando tokens"
      ],
      "metadata": {
        "id": "am-Hu2cW_X37"
      }
    },
    {
      "cell_type": "markdown",
      "source": [
        "#### Limite de tokens por modelo"
      ],
      "metadata": {
        "id": "nBPde4gydwGm"
      }
    },
    {
      "cell_type": "code",
      "source": [
        "model_info = genai.get_model('models/gemini-1.5-pro-latest')\n",
        "(model_info.input_token_limit, model_info.output_token_limit)"
      ],
      "metadata": {
        "colab": {
          "base_uri": "https://localhost:8080/",
          "height": 35
        },
        "id": "r7jtkRym_F_b",
        "outputId": "22f6eaa7-62ce-489b-aee5-acee746fbf6f"
      },
      "execution_count": null,
      "outputs": [
        {
          "output_type": "execute_result",
          "data": {
            "text/plain": [
              "(2097152, 8192)"
            ]
          },
          "metadata": {},
          "execution_count": 35
        }
      ]
    },
    {
      "cell_type": "code",
      "source": [
        "model_info = genai.get_model('models/gemini-1.5-flash')\n",
        "(model_info.input_token_limit, model_info.output_token_limit)"
      ],
      "metadata": {
        "colab": {
          "base_uri": "https://localhost:8080/",
          "height": 35
        },
        "id": "hMngPT9o_K6l",
        "outputId": "386976c9-a0af-4652-d187-3ee1ea53078c"
      },
      "execution_count": null,
      "outputs": [
        {
          "output_type": "execute_result",
          "data": {
            "text/plain": [
              "(1048576, 8192)"
            ]
          },
          "metadata": {},
          "execution_count": 36
        }
      ]
    },
    {
      "cell_type": "markdown",
      "source": [
        "#### Conteo de tokens en texto"
      ],
      "metadata": {
        "id": "VexL5HV2d0bu"
      }
    },
    {
      "cell_type": "code",
      "source": [
        "model = genai.GenerativeModel('models/gemini-1.5-flash')\n",
        "model.count_tokens(\"En resolución, él se enfrascó tanto en su lectura, que se le pasaban las noches leyendo de claro en claro, y los días de turbio en turbio, y así, del poco dormir y del mucho leer, se le secó el cerebro, de manera que vino a perder el juicio\")"
      ],
      "metadata": {
        "colab": {
          "base_uri": "https://localhost:8080/",
          "height": 35
        },
        "id": "J5GjArVp_Wl2",
        "outputId": "7324a8b2-fa32-45e1-db31-c0c7dece5826"
      },
      "execution_count": null,
      "outputs": [
        {
          "output_type": "execute_result",
          "data": {
            "text/plain": [
              "total_tokens: 63"
            ]
          },
          "metadata": {},
          "execution_count": 37
        }
      ]
    },
    {
      "cell_type": "code",
      "source": [
        "response = model.generate_content(\"En resolución, él se enfrascó tanto en su lectura, que se le pasaban las noches leyendo de claro en claro, y los días de turbio en turbio, y así, del poco dormir y del mucho leer, se le secó el cerebro, de manera que vino a perder el juicio\")\n",
        "print(response.text)"
      ],
      "metadata": {
        "colab": {
          "base_uri": "https://localhost:8080/",
          "height": 268
        },
        "id": "ytZgoz96_wRT",
        "outputId": "c90773ec-9402-4c6a-93b3-c561a354af13"
      },
      "execution_count": null,
      "outputs": [
        {
          "output_type": "stream",
          "name": "stdout",
          "text": [
            "Esta frase describe un caso clásico de obsesión por la lectura que lleva a la locura. El personaje se sumerge tanto en la lectura que descuida por completo su vida diaria, llegando al punto de perder el juicio. \n",
            "\n",
            "Aquí hay algunos aspectos notables:\n",
            "\n",
            "* **\"Se enfrascó tanto en su lectura...\"**: Se enfatiza la profundidad de su dedicación a la lectura, hasta el punto de ignorar todo lo demás.\n",
            "* **\"...que se le pasaban las noches leyendo de claro en claro, y los días de turbio en turbio...\":** Se describe la falta de ritmo de vida, donde el día y la noche se confunden en una espiral de lectura continua.\n",
            "* **\"...se le secó el cerebro...\":**  Se utiliza una imagen gráfica para expresar el daño causado por la falta de descanso y la sobreestimulación mental. \n",
            "* **\"...vino a perder el juicio...\":** Se establece la consecuencia final de su obsesión: la pérdida de la razón.\n",
            "\n",
            "Esta frase utiliza un lenguaje poético y metafórico para ilustrar la naturaleza dañina de la obsesión. El cerebro se compara con un recurso que se seca por el uso excesivo, y la pérdida del juicio se presenta como una consecuencia natural de este desgaste. \n",
            "\n",
            "La frase también tiene un toque de advertencia. Nos recuerda que incluso las actividades que nos apasionan pueden tener consecuencias negativas si no se practican con moderación y equilibrio. \n",
            "\n"
          ]
        }
      ]
    },
    {
      "cell_type": "code",
      "source": [
        "response.usage_metadata"
      ],
      "metadata": {
        "colab": {
          "base_uri": "https://localhost:8080/"
        },
        "id": "X3rOwu17_5ys",
        "outputId": "090cfd2b-a2c6-4e92-f6dd-76d00b39cc67"
      },
      "execution_count": null,
      "outputs": [
        {
          "output_type": "execute_result",
          "data": {
            "text/plain": [
              "prompt_token_count: 64\n",
              "candidates_token_count: 300\n",
              "total_token_count: 364"
            ]
          },
          "metadata": {},
          "execution_count": 39
        }
      ]
    },
    {
      "cell_type": "markdown",
      "source": [
        "#### Conteo de tokens en archivos"
      ],
      "metadata": {
        "id": "bhL6WcYxd8f_"
      }
    },
    {
      "cell_type": "code",
      "source": [
        "sample_file"
      ],
      "metadata": {
        "colab": {
          "base_uri": "https://localhost:8080/"
        },
        "id": "yHs423qldsx_",
        "outputId": "9907fc52-dfc0-4c3e-c63b-26ec030edaa0"
      },
      "execution_count": null,
      "outputs": [
        {
          "output_type": "execute_result",
          "data": {
            "text/plain": [
              "genai.File({\n",
              "    'name': 'files/u9m2bafp0bti',\n",
              "    'display_name': 'Mi perrita Mara',\n",
              "    'mime_type': 'image/jpeg',\n",
              "    'sha256_hash': 'MGZhYzc0ZjJjY2M3Y2E4ODcyMmM4ZjIxNjMyYjI0OGQyZWRlYmM4ZDAwMTgwN2EwODQyZjQzOTcwMDQwYWEwZg==',\n",
              "    'size_bytes': '545718',\n",
              "    'state': 'ACTIVE',\n",
              "    'uri': 'https://generativelanguage.googleapis.com/v1beta/files/u9m2bafp0bti',\n",
              "    'create_time': '2024-07-14T01:22:27.231339Z',\n",
              "    'expiration_time': '2024-07-16T01:22:27.166555869Z',\n",
              "    'update_time': '2024-07-14T01:22:27.231339Z'})"
            ]
          },
          "metadata": {},
          "execution_count": 40
        }
      ]
    },
    {
      "cell_type": "code",
      "source": [
        "model.count_tokens(sample_file)"
      ],
      "metadata": {
        "colab": {
          "base_uri": "https://localhost:8080/",
          "height": 35
        },
        "id": "0FgNZzJ5dpSn",
        "outputId": "c29d9d06-3355-47e3-c4de-5b695b38c494"
      },
      "execution_count": null,
      "outputs": [
        {
          "output_type": "execute_result",
          "data": {
            "text/plain": [
              "total_tokens: 258"
            ]
          },
          "metadata": {},
          "execution_count": 41
        }
      ]
    },
    {
      "cell_type": "markdown",
      "source": [
        "#### Conteo de tokens en chat"
      ],
      "metadata": {
        "id": "RCu0fZ0vd_Kb"
      }
    },
    {
      "cell_type": "code",
      "source": [
        "chat = model.start_chat(history=[{'role':'user', 'parts':'Hola, podrias darme una cerveza'},  {'role':'model', 'parts':'Claro, de que marca quieres?'}])\n",
        "model.count_tokens(chat.history)"
      ],
      "metadata": {
        "colab": {
          "base_uri": "https://localhost:8080/",
          "height": 35
        },
        "id": "W0yADkEWANz0",
        "outputId": "033850a0-98e0-413f-ce54-7e431701c6a1"
      },
      "execution_count": null,
      "outputs": [
        {
          "output_type": "execute_result",
          "data": {
            "text/plain": [
              "total_tokens: 17"
            ]
          },
          "metadata": {},
          "execution_count": 42
        }
      ]
    },
    {
      "cell_type": "markdown",
      "source": [
        "## JSON mode\n"
      ],
      "metadata": {
        "id": "OB7tWhDgfH3V"
      }
    },
    {
      "cell_type": "code",
      "source": [
        "model = genai.GenerativeModel(\"gemini-1.5-flash-latest\",\n",
        "                              generation_config={\"response_mime_type\": \"application/json\"})"
      ],
      "metadata": {
        "id": "_A4kNI_IfJ-I"
      },
      "execution_count": null,
      "outputs": []
    },
    {
      "cell_type": "code",
      "source": [
        "prompt = \"\"\"Dame la formacion de los mejores jugadores de futbol en la historia usando este esquema\n",
        "\n",
        "jugadores = {'nombre': str, 'posicion': str}\n",
        "Return: list[jugadores]\"\"\"\n",
        "raw_response = model.generate_content(prompt)"
      ],
      "metadata": {
        "id": "0Ms-s9tjfXKW"
      },
      "execution_count": null,
      "outputs": []
    },
    {
      "cell_type": "code",
      "source": [
        "print(raw_response.text)"
      ],
      "metadata": {
        "colab": {
          "base_uri": "https://localhost:8080/"
        },
        "id": "rT_dgNdXfyzs",
        "outputId": "dc364ce4-15c1-4a67-c8f0-142e153cbd47"
      },
      "execution_count": null,
      "outputs": [
        {
          "output_type": "stream",
          "name": "stdout",
          "text": [
            "[\n",
            "{\"nombre\": \"Pelé\", \"posicion\": \"Delantero\"},\n",
            "{\"nombre\": \"Diego Maradona\", \"posicion\": \"Mediocampista\"},\n",
            "{\"nombre\": \"Lionel Messi\", \"posicion\": \"Delantero\"},\n",
            "{\"nombre\": \"Cristiano Ronaldo\", \"posicion\": \"Delantero\"},\n",
            "{\"nombre\": \"Johan Cruyff\", \"posicion\": \"Delantero\"},\n",
            "{\"nombre\": \"Franz Beckenbauer\", \"posicion\": \"Defensa\"},\n",
            "{\"nombre\": \"Alfredo Di Stéfano\", \"posicion\": \"Delantero\"},\n",
            "{\"nombre\": \"Zinedine Zidane\", \"posicion\": \"Mediocampista\"},\n",
            "{\"nombre\": \"Ronaldo Nazário\", \"posicion\": \"Delantero\"},\n",
            "{\"nombre\": \"George Best\", \"posicion\": \"Delantero\"},\n",
            "{\"nombre\": \"Marco van Basten\", \"posicion\": \"Delantero\"},\n",
            "{\"nombre\": \"Garrincha\", \"posicion\": \"Delantero\"},\n",
            "{\"nombre\": \"Michel Platini\", \"posicion\": \"Mediocampista\"},\n",
            "{\"nombre\": \"Roberto Baggio\", \"posicion\": \"Delantero\"},\n",
            "{\"nombre\": \"Paolo Maldini\", \"posicion\": \"Defensa\"},\n",
            "{\"nombre\": \"Romário\", \"posicion\": \"Delantero\"},\n",
            "{\"nombre\": \"David Beckham\", \"posicion\": \"Mediocampista\"},\n",
            "{\"nombre\": \"Ronaldinho\", \"posicion\": \"Mediocampista\"},\n",
            "{\"nombre\": \"Thierry Henry\", \"posicion\": \"Delantero\"},\n",
            "{\"nombre\": \"Gianluigi Buffon\", \"posicion\": \"Portero\"},\n",
            "{\"nombre\": \"Neymar Jr.\", \"posicion\": \"Delantero\"},\n",
            "{\"nombre\": \"Luka Modrić\", \"posicion\": \"Mediocampista\"},\n",
            "{\"nombre\": \"Kylian Mbappé\", \"posicion\": \"Delantero\"}\n",
            "]\n"
          ]
        }
      ]
    },
    {
      "cell_type": "code",
      "source": [
        "import json\n",
        "response = json.loads(raw_response.text)\n",
        "print(response)"
      ],
      "metadata": {
        "colab": {
          "base_uri": "https://localhost:8080/"
        },
        "id": "ZqOXnPzyf4wt",
        "outputId": "589a0f7d-1794-4af9-de3e-fe146ee1279d"
      },
      "execution_count": null,
      "outputs": [
        {
          "output_type": "stream",
          "name": "stdout",
          "text": [
            "[{'nombre': 'Pelé', 'posicion': 'Delantero'}, {'nombre': 'Diego Maradona', 'posicion': 'Mediocampista'}, {'nombre': 'Lionel Messi', 'posicion': 'Delantero'}, {'nombre': 'Cristiano Ronaldo', 'posicion': 'Delantero'}, {'nombre': 'Johan Cruyff', 'posicion': 'Delantero'}, {'nombre': 'Franz Beckenbauer', 'posicion': 'Defensa'}, {'nombre': 'Alfredo Di Stéfano', 'posicion': 'Delantero'}, {'nombre': 'Zinedine Zidane', 'posicion': 'Mediocampista'}, {'nombre': 'Ronaldo Nazário', 'posicion': 'Delantero'}, {'nombre': 'George Best', 'posicion': 'Delantero'}, {'nombre': 'Marco van Basten', 'posicion': 'Delantero'}, {'nombre': 'Garrincha', 'posicion': 'Delantero'}, {'nombre': 'Michel Platini', 'posicion': 'Mediocampista'}, {'nombre': 'Roberto Baggio', 'posicion': 'Delantero'}, {'nombre': 'Paolo Maldini', 'posicion': 'Defensa'}, {'nombre': 'Romário', 'posicion': 'Delantero'}, {'nombre': 'David Beckham', 'posicion': 'Mediocampista'}, {'nombre': 'Ronaldinho', 'posicion': 'Mediocampista'}, {'nombre': 'Thierry Henry', 'posicion': 'Delantero'}, {'nombre': 'Gianluigi Buffon', 'posicion': 'Portero'}, {'nombre': 'Neymar Jr.', 'posicion': 'Delantero'}, {'nombre': 'Luka Modrić', 'posicion': 'Mediocampista'}, {'nombre': 'Kylian Mbappé', 'posicion': 'Delantero'}]\n"
          ]
        }
      ]
    },
    {
      "cell_type": "code",
      "source": [
        "print(json.dumps(response, indent=2))"
      ],
      "metadata": {
        "colab": {
          "base_uri": "https://localhost:8080/"
        },
        "id": "CWlRG27Sf_DQ",
        "outputId": "c360144e-8ece-47fb-9fbf-663037d350d6"
      },
      "execution_count": null,
      "outputs": [
        {
          "output_type": "stream",
          "name": "stdout",
          "text": [
            "[\n",
            "  {\n",
            "    \"nombre\": \"Pel\\u00e9\",\n",
            "    \"posicion\": \"Delantero\"\n",
            "  },\n",
            "  {\n",
            "    \"nombre\": \"Diego Maradona\",\n",
            "    \"posicion\": \"Mediocampista\"\n",
            "  },\n",
            "  {\n",
            "    \"nombre\": \"Lionel Messi\",\n",
            "    \"posicion\": \"Delantero\"\n",
            "  },\n",
            "  {\n",
            "    \"nombre\": \"Cristiano Ronaldo\",\n",
            "    \"posicion\": \"Delantero\"\n",
            "  },\n",
            "  {\n",
            "    \"nombre\": \"Johan Cruyff\",\n",
            "    \"posicion\": \"Delantero\"\n",
            "  },\n",
            "  {\n",
            "    \"nombre\": \"Franz Beckenbauer\",\n",
            "    \"posicion\": \"Defensa\"\n",
            "  },\n",
            "  {\n",
            "    \"nombre\": \"Alfredo Di St\\u00e9fano\",\n",
            "    \"posicion\": \"Delantero\"\n",
            "  },\n",
            "  {\n",
            "    \"nombre\": \"Zinedine Zidane\",\n",
            "    \"posicion\": \"Mediocampista\"\n",
            "  },\n",
            "  {\n",
            "    \"nombre\": \"Ronaldo Naz\\u00e1rio\",\n",
            "    \"posicion\": \"Delantero\"\n",
            "  },\n",
            "  {\n",
            "    \"nombre\": \"George Best\",\n",
            "    \"posicion\": \"Delantero\"\n",
            "  },\n",
            "  {\n",
            "    \"nombre\": \"Marco van Basten\",\n",
            "    \"posicion\": \"Delantero\"\n",
            "  },\n",
            "  {\n",
            "    \"nombre\": \"Garrincha\",\n",
            "    \"posicion\": \"Delantero\"\n",
            "  },\n",
            "  {\n",
            "    \"nombre\": \"Michel Platini\",\n",
            "    \"posicion\": \"Mediocampista\"\n",
            "  },\n",
            "  {\n",
            "    \"nombre\": \"Roberto Baggio\",\n",
            "    \"posicion\": \"Delantero\"\n",
            "  },\n",
            "  {\n",
            "    \"nombre\": \"Paolo Maldini\",\n",
            "    \"posicion\": \"Defensa\"\n",
            "  },\n",
            "  {\n",
            "    \"nombre\": \"Rom\\u00e1rio\",\n",
            "    \"posicion\": \"Delantero\"\n",
            "  },\n",
            "  {\n",
            "    \"nombre\": \"David Beckham\",\n",
            "    \"posicion\": \"Mediocampista\"\n",
            "  },\n",
            "  {\n",
            "    \"nombre\": \"Ronaldinho\",\n",
            "    \"posicion\": \"Mediocampista\"\n",
            "  },\n",
            "  {\n",
            "    \"nombre\": \"Thierry Henry\",\n",
            "    \"posicion\": \"Delantero\"\n",
            "  },\n",
            "  {\n",
            "    \"nombre\": \"Gianluigi Buffon\",\n",
            "    \"posicion\": \"Portero\"\n",
            "  },\n",
            "  {\n",
            "    \"nombre\": \"Neymar Jr.\",\n",
            "    \"posicion\": \"Delantero\"\n",
            "  },\n",
            "  {\n",
            "    \"nombre\": \"Luka Modri\\u0107\",\n",
            "    \"posicion\": \"Mediocampista\"\n",
            "  },\n",
            "  {\n",
            "    \"nombre\": \"Kylian Mbapp\\u00e9\",\n",
            "    \"posicion\": \"Delantero\"\n",
            "  }\n",
            "]\n"
          ]
        }
      ]
    },
    {
      "cell_type": "code",
      "source": [
        "import json\n",
        "import typing_extensions as typing"
      ],
      "metadata": {
        "id": "yGM8SPvtgnpU"
      },
      "execution_count": null,
      "outputs": []
    },
    {
      "cell_type": "code",
      "source": [
        "class Jugadores(typing.TypedDict):\n",
        "    nombre: str\n",
        "    posicion: str\n",
        "    numero: int"
      ],
      "metadata": {
        "id": "fQdmbZbpgZlA"
      },
      "execution_count": null,
      "outputs": []
    },
    {
      "cell_type": "code",
      "source": [
        "\n",
        "model = genai.GenerativeModel(model_name=\"models/gemini-1.5-pro-latest\")\n",
        "\n",
        "result = model.generate_content(\n",
        "    \"Dame la formacion de los mejores jugadores de futbol en la historia\",\n",
        "    generation_config=genai.GenerationConfig(\n",
        "        response_mime_type=\"application/json\",\n",
        "        response_schema = list[Jugadores]),\n",
        "    request_options={\"timeout\": 600},\n",
        ")\n"
      ],
      "metadata": {
        "id": "6TiPJCUsgseM"
      },
      "execution_count": null,
      "outputs": []
    },
    {
      "cell_type": "code",
      "source": [
        "print(result.text)"
      ],
      "metadata": {
        "colab": {
          "base_uri": "https://localhost:8080/"
        },
        "id": "jOGyG4yogz0y",
        "outputId": "1694684e-a53b-45f0-e667-be2b43ece812"
      },
      "execution_count": null,
      "outputs": [
        {
          "output_type": "stream",
          "name": "stdout",
          "text": [
            "[{\"nombre\": \"Lev Yashin\", \"numero\": 1, \"posicion\": \"Portero\"}, {\"nombre\": \"Franz Beckenbauer\", \"numero\": 4, \"posicion\": \"Defensa\"}, {\"nombre\": \"Paolo Maldini\", \"numero\": 3, \"posicion\": \"Defensa\"}, {\"nombre\": \"Johan Cruyff\", \"numero\": 14, \"posicion\": \"Mediocampista\"}, {\"nombre\": \"Diego Maradona\", \"numero\": 10, \"posicion\": \"Mediocampista\"}, {\"nombre\": \"Alfredo Di Stéfano\", \"numero\": 9, \"posicion\": \"Delantero\"}, {\"nombre\": \"Pelé\", \"numero\": 10, \"posicion\": \"Delantero\"}] \n"
          ]
        }
      ]
    },
    {
      "cell_type": "code",
      "source": [
        "json.loads(result.text)"
      ],
      "metadata": {
        "colab": {
          "base_uri": "https://localhost:8080/"
        },
        "id": "Gs2GUQQEg03I",
        "outputId": "c5b2b5c5-ea6d-4008-86a7-415855ad3a3d"
      },
      "execution_count": null,
      "outputs": [
        {
          "output_type": "execute_result",
          "data": {
            "text/plain": [
              "[{'nombre': 'Lev Yashin', 'numero': 1, 'posicion': 'Portero'},\n",
              " {'nombre': 'Franz Beckenbauer', 'numero': 4, 'posicion': 'Defensa'},\n",
              " {'nombre': 'Paolo Maldini', 'numero': 3, 'posicion': 'Defensa'},\n",
              " {'nombre': 'Johan Cruyff', 'numero': 14, 'posicion': 'Mediocampista'},\n",
              " {'nombre': 'Diego Maradona', 'numero': 10, 'posicion': 'Mediocampista'},\n",
              " {'nombre': 'Alfredo Di Stéfano', 'numero': 9, 'posicion': 'Delantero'},\n",
              " {'nombre': 'Pelé', 'numero': 10, 'posicion': 'Delantero'}]"
            ]
          },
          "metadata": {},
          "execution_count": 90
        }
      ]
    },
    {
      "cell_type": "markdown",
      "source": [
        "## Function calling"
      ],
      "metadata": {
        "id": "upgmDGVtmGDn"
      }
    },
    {
      "cell_type": "code",
      "source": [
        "def encontrar_restaurantes(tipo_comida: str, ubicacion: str = \"\"):\n",
        "    \"\"\"Encuentra restaurantes basados en el tipo de comida y la ubicación.\n",
        "\n",
        "    Args:\n",
        "        tipo_comida: Tipo de comida, por ejemplo, italiana, mexicana, china, etc.\n",
        "        ubicacion: La ciudad y el estado, por ejemplo, San Francisco, CA o un código postal, por ejemplo, 95616\n",
        "    \"\"\"\n",
        "    return [\"La Pizzeria\", \"Sushi King\"]\n",
        "\n",
        "\n",
        "def encontrar_horarios_restaurantes(ubicacion: str, restaurante: str = \"\"):\n",
        "    \"\"\"Encuentra horarios de apertura de restaurantes basados en la ubicación y opcionalmente el nombre del restaurante.\n",
        "\n",
        "    Args:\n",
        "        ubicacion: La ciudad y el estado, por ejemplo, San Francisco, CA o un código postal, por ejemplo, 95616\n",
        "        restaurante: Nombre del restaurante\n",
        "    \"\"\"\n",
        "    return [\"8:00 AM - 10:00 PM\", \"11:00 AM - 11:00 PM\"]\n",
        "\n",
        "\n",
        "def obtener_detalles_restaurante(ubicacion: str, restaurante: str, tipo_comida: str = \"\", rango_precio: str = \"\", calificacion: str = \"\"):\n",
        "    \"\"\"\n",
        "    Encuentra detalles específicos de un restaurante, como la dirección, el número de contacto, tipo de comida, rango de precios y calificación.\n",
        "\n",
        "    Args:\n",
        "        ubicacion: La ciudad y el estado, por ejemplo, San Francisco, CA o un código postal, por ejemplo, 95616\n",
        "        restaurante: Nombre del restaurante\n",
        "        tipo_comida: Tipo de comida, por ejemplo, italiana, mexicana, china, etc.\n",
        "        rango_precio: Rango de precios del restaurante, por ejemplo, $, $$, $$$\n",
        "        calificacion: Calificación del restaurante, por ejemplo, 4.5\n",
        "    \"\"\"\n",
        "    return {\n",
        "        \"direccion\": \"123 Main St, San Francisco, CA\",\n",
        "        \"telefono\": \"555-1234\",\n",
        "        \"correo\": \"correo@example.com\",\n",
        "\n",
        "    }"
      ],
      "metadata": {
        "id": "oaYdgUTumIr0"
      },
      "execution_count": null,
      "outputs": []
    },
    {
      "cell_type": "code",
      "source": [
        "\n",
        "functions = {\n",
        "    \"encontrar_restaurantes\": encontrar_restaurantes,\n",
        "    \"encontrar_horarios_restaurantes\": encontrar_horarios_restaurantes,\n",
        "    \"obtener_detalles_restaurante\": obtener_detalles_restaurante,\n",
        "}\n",
        "\n",
        "model = genai.GenerativeModel(model_name=\"gemini-1.5-flash\", tools=functions.values())"
      ],
      "metadata": {
        "id": "S2I9blm9mKy2"
      },
      "execution_count": null,
      "outputs": []
    },
    {
      "cell_type": "code",
      "source": [
        "\n",
        "response = model.generate_content(\n",
        "    \"Que restaurantes italianos tenemos en bogota?\"\n",
        ")\n",
        "response.candidates[0].content.parts"
      ],
      "metadata": {
        "colab": {
          "base_uri": "https://localhost:8080/",
          "height": 337
        },
        "id": "Uo-jAUnimMfN",
        "outputId": "b56def3a-2e5a-4685-8e4e-e40a0060f54a"
      },
      "execution_count": null,
      "outputs": [
        {
          "output_type": "execute_result",
          "data": {
            "text/plain": [
              "[function_call {\n",
              "  name: \"encontrar_restaurantes\"\n",
              "  args {\n",
              "    fields {\n",
              "      key: \"tipo_comida\"\n",
              "      value {\n",
              "        string_value: \"italiana\"\n",
              "      }\n",
              "    }\n",
              "    fields {\n",
              "      key: \"ubicacion\"\n",
              "      value {\n",
              "        string_value: \"Bogota\"\n",
              "      }\n",
              "    }\n",
              "  }\n",
              "}\n",
              "]"
            ]
          },
          "metadata": {},
          "execution_count": 93
        }
      ]
    },
    {
      "cell_type": "code",
      "source": [
        "response = model.generate_content(\n",
        "    \"Cuales son los horarios del restaurante DeliPizza en Bogota?\"\n",
        ")\n",
        "response.candidates[0].content.parts"
      ],
      "metadata": {
        "colab": {
          "base_uri": "https://localhost:8080/",
          "height": 337
        },
        "id": "9xhzidY-mzjE",
        "outputId": "2b9dd2ca-557a-4d45-b372-aea23935f46d"
      },
      "execution_count": null,
      "outputs": [
        {
          "output_type": "execute_result",
          "data": {
            "text/plain": [
              "[function_call {\n",
              "  name: \"encontrar_horarios_restaurantes\"\n",
              "  args {\n",
              "    fields {\n",
              "      key: \"restaurante\"\n",
              "      value {\n",
              "        string_value: \"DeliPizza\"\n",
              "      }\n",
              "    }\n",
              "    fields {\n",
              "      key: \"ubicacion\"\n",
              "      value {\n",
              "        string_value: \"Bogota\"\n",
              "      }\n",
              "    }\n",
              "  }\n",
              "}\n",
              "]"
            ]
          },
          "metadata": {},
          "execution_count": 94
        }
      ]
    },
    {
      "cell_type": "code",
      "source": [
        "response = model.generate_content(\n",
        "    \"sabes el numero telefonico del restaurante DeliPizza de 4 estrellas en bogota, es de comida italiana\"\n",
        ")\n",
        "response.candidates[0].content.parts"
      ],
      "metadata": {
        "colab": {
          "base_uri": "https://localhost:8080/",
          "height": 550
        },
        "id": "_pus_Ut8pgXO",
        "outputId": "51560564-2e5a-483e-a735-2c906a02a30f"
      },
      "execution_count": null,
      "outputs": [
        {
          "output_type": "execute_result",
          "data": {
            "text/plain": [
              "[function_call {\n",
              "  name: \"obtener_detalles_restaurante\"\n",
              "  args {\n",
              "    fields {\n",
              "      key: \"calificacion\"\n",
              "      value {\n",
              "        string_value: \"4 estrellas\"\n",
              "      }\n",
              "    }\n",
              "    fields {\n",
              "      key: \"restaurante\"\n",
              "      value {\n",
              "        string_value: \"DeliPizza\"\n",
              "      }\n",
              "    }\n",
              "    fields {\n",
              "      key: \"tipo_comida\"\n",
              "      value {\n",
              "        string_value: \"italiana\"\n",
              "      }\n",
              "    }\n",
              "    fields {\n",
              "      key: \"ubicacion\"\n",
              "      value {\n",
              "        string_value: \"Bogota\"\n",
              "      }\n",
              "    }\n",
              "  }\n",
              "}\n",
              "]"
            ]
          },
          "metadata": {},
          "execution_count": 95
        }
      ]
    },
    {
      "cell_type": "code",
      "source": [
        "def add(a: float, b: float):\n",
        "    \"\"\"returns a + b.\"\"\"\n",
        "    return a + b\n",
        "\n",
        "\n",
        "def subtract(a: float, b: float):\n",
        "    \"\"\"returns a - b.\"\"\"\n",
        "    return a - b\n",
        "\n",
        "\n",
        "def multiply(a: float, b: float):\n",
        "    \"\"\"returns a * b.\"\"\"\n",
        "    return a * b\n",
        "\n",
        "\n",
        "def divide(a: float, b: float):\n",
        "    \"\"\"returns a / b.\"\"\"\n",
        "    return a / b\n",
        "\n",
        "\n",
        "model = genai.GenerativeModel(\n",
        "    model_name=\"gemini-1.5-flash\", tools=[add, subtract, multiply, divide]\n",
        ")\n",
        "\n",
        "model"
      ],
      "metadata": {
        "colab": {
          "base_uri": "https://localhost:8080/"
        },
        "id": "fo1OlnTbp64u",
        "outputId": "fe0c36a2-67a9-4275-dad6-aae8e0b009ba"
      },
      "execution_count": null,
      "outputs": [
        {
          "output_type": "execute_result",
          "data": {
            "text/plain": [
              "genai.GenerativeModel(\n",
              "    model_name='models/gemini-1.5-flash',\n",
              "    generation_config={},\n",
              "    safety_settings={},\n",
              "    tools=<google.generativeai.types.content_types.FunctionLibrary object at 0x7b1d21aba1a0>,\n",
              "    system_instruction=None,\n",
              "    cached_content=None\n",
              ")"
            ]
          },
          "metadata": {},
          "execution_count": 96
        }
      ]
    },
    {
      "cell_type": "code",
      "source": [
        "chat = model.start_chat(enable_automatic_function_calling=True)\n",
        "\n",
        "response = chat.send_message(\n",
        "    \"si tengo 10 cajas de manzana y cada una tiene 8 manzanas, cuantas manzanas tengo?\"\n",
        ")\n",
        "response.text"
      ],
      "metadata": {
        "colab": {
          "base_uri": "https://localhost:8080/",
          "height": 35
        },
        "id": "zzCV-Kmtp_Lu",
        "outputId": "86dbea0c-e73b-474d-e6cd-de56fcd507db"
      },
      "execution_count": null,
      "outputs": [
        {
          "output_type": "execute_result",
          "data": {
            "text/plain": [
              "'Tienes 80 manzanas. \\n'"
            ],
            "application/vnd.google.colaboratory.intrinsic+json": {
              "type": "string"
            }
          },
          "metadata": {},
          "execution_count": 97
        }
      ]
    },
    {
      "cell_type": "code",
      "source": [
        "for content in chat.history:\n",
        "    print(content.role, \"->\", [type(part).to_dict(part) for part in content.parts])\n",
        "    print(\"-\" * 80)"
      ],
      "metadata": {
        "colab": {
          "base_uri": "https://localhost:8080/"
        },
        "id": "ETc05wDzqMIL",
        "outputId": "d4402ce5-89f3-4717-c78e-e60de8ea4808"
      },
      "execution_count": null,
      "outputs": [
        {
          "output_type": "stream",
          "name": "stdout",
          "text": [
            "user -> [{'text': 'si tengo 10 cajas de manzana y cada una tiene 8 manzanas, cuantas manzanas tengo?'}]\n",
            "--------------------------------------------------------------------------------\n",
            "model -> [{'function_call': {'name': 'multiply', 'args': {'b': 8.0, 'a': 10.0}}}]\n",
            "--------------------------------------------------------------------------------\n",
            "user -> [{'function_response': {'name': 'multiply', 'response': {'result': 80.0}}}]\n",
            "--------------------------------------------------------------------------------\n",
            "model -> [{'text': 'Tienes 80 manzanas. \\n'}]\n",
            "--------------------------------------------------------------------------------\n"
          ]
        }
      ]
    },
    {
      "cell_type": "markdown",
      "source": [
        "## Cache"
      ],
      "metadata": {
        "id": "WgTZgUcxrD28"
      }
    },
    {
      "cell_type": "code",
      "source": [
        "from google.colab import userdata\n",
        "GOOGLE_API_KEY = userdata.get('GOOGLE_API_KEY_PAID')\n",
        "genai.configure(api_key=GOOGLE_API_KEY)"
      ],
      "metadata": {
        "id": "pDX9zLy4sQ-r"
      },
      "execution_count": null,
      "outputs": []
    },
    {
      "cell_type": "code",
      "source": [
        "from google.generativeai import caching\n",
        "# Note that caching requires a frozen model, e.g. one with a `-001` version suffix.\n",
        "model_name = \"gemini-1.5-flash-001\"\n",
        "audio_file = genai.upload_file(path=\"/content/output_openai.wav\", display_name=\"Audio file\")"
      ],
      "metadata": {
        "id": "FaossObGrCKL"
      },
      "execution_count": null,
      "outputs": []
    },
    {
      "cell_type": "code",
      "source": [
        "audio_cache = caching.CachedContent.create(\n",
        "    model=model_name,\n",
        "    system_instruction=\"Eres un experto en analizis de contenido para youtube\",\n",
        "    contents=[audio_file],\n",
        ")\n",
        "\n",
        "audio_cache"
      ],
      "metadata": {
        "colab": {
          "base_uri": "https://localhost:8080/",
          "height": 454
        },
        "id": "ZkbApEJ2t0he",
        "outputId": "9d1e99c9-a01b-4e2b-e436-b52fadedf8c0"
      },
      "execution_count": null,
      "outputs": [
        {
          "output_type": "stream",
          "name": "stderr",
          "text": [
            "WARNING:tornado.access:400 POST /v1beta/cachedContents?%24alt=json%3Benum-encoding%3Dint (127.0.0.1) 2327.09ms\n"
          ]
        },
        {
          "output_type": "error",
          "ename": "BadRequest",
          "evalue": "400 POST https://generativelanguage.googleapis.com/v1beta/cachedContents?%24alt=json%3Benum-encoding%3Dint: Cached content is too small. total_token_count=19915, min_total_token_count=32768",
          "traceback": [
            "\u001b[0;31m---------------------------------------------------------------------------\u001b[0m",
            "\u001b[0;31mBadRequest\u001b[0m                                Traceback (most recent call last)",
            "\u001b[0;32m<ipython-input-101-2895f0a085e6>\u001b[0m in \u001b[0;36m<cell line: 1>\u001b[0;34m()\u001b[0m\n\u001b[0;32m----> 1\u001b[0;31m audio_cache = caching.CachedContent.create(\n\u001b[0m\u001b[1;32m      2\u001b[0m     \u001b[0mmodel\u001b[0m\u001b[0;34m=\u001b[0m\u001b[0mmodel_name\u001b[0m\u001b[0;34m,\u001b[0m\u001b[0;34m\u001b[0m\u001b[0;34m\u001b[0m\u001b[0m\n\u001b[1;32m      3\u001b[0m     \u001b[0msystem_instruction\u001b[0m\u001b[0;34m=\u001b[0m\u001b[0;34m\"Eres un experto en analizis de contenido para youtube\"\u001b[0m\u001b[0;34m,\u001b[0m\u001b[0;34m\u001b[0m\u001b[0;34m\u001b[0m\u001b[0m\n\u001b[1;32m      4\u001b[0m     \u001b[0mcontents\u001b[0m\u001b[0;34m=\u001b[0m\u001b[0;34m[\u001b[0m\u001b[0maudio_file\u001b[0m\u001b[0;34m]\u001b[0m\u001b[0;34m,\u001b[0m\u001b[0;34m\u001b[0m\u001b[0;34m\u001b[0m\u001b[0m\n\u001b[1;32m      5\u001b[0m )\n",
            "\u001b[0;32m/usr/local/lib/python3.10/dist-packages/google/generativeai/caching.py\u001b[0m in \u001b[0;36mcreate\u001b[0;34m(cls, model, display_name, system_instruction, contents, tools, tool_config, ttl, expire_time)\u001b[0m\n\u001b[1;32m    217\u001b[0m         )\n\u001b[1;32m    218\u001b[0m \u001b[0;34m\u001b[0m\u001b[0m\n\u001b[0;32m--> 219\u001b[0;31m         \u001b[0mresponse\u001b[0m \u001b[0;34m=\u001b[0m \u001b[0mclient\u001b[0m\u001b[0;34m.\u001b[0m\u001b[0mcreate_cached_content\u001b[0m\u001b[0;34m(\u001b[0m\u001b[0mrequest\u001b[0m\u001b[0;34m)\u001b[0m\u001b[0;34m\u001b[0m\u001b[0;34m\u001b[0m\u001b[0m\n\u001b[0m\u001b[1;32m    220\u001b[0m         \u001b[0mresult\u001b[0m \u001b[0;34m=\u001b[0m \u001b[0mCachedContent\u001b[0m\u001b[0;34m.\u001b[0m\u001b[0m_from_obj\u001b[0m\u001b[0;34m(\u001b[0m\u001b[0mresponse\u001b[0m\u001b[0;34m)\u001b[0m\u001b[0;34m\u001b[0m\u001b[0;34m\u001b[0m\u001b[0m\n\u001b[1;32m    221\u001b[0m         \u001b[0;32mreturn\u001b[0m \u001b[0mresult\u001b[0m\u001b[0;34m\u001b[0m\u001b[0;34m\u001b[0m\u001b[0m\n",
            "\u001b[0;32m/usr/local/lib/python3.10/dist-packages/google/ai/generativelanguage_v1beta/services/cache_service/client.py\u001b[0m in \u001b[0;36mcreate_cached_content\u001b[0;34m(self, request, cached_content, retry, timeout, metadata)\u001b[0m\n\u001b[1;32m    872\u001b[0m \u001b[0;34m\u001b[0m\u001b[0m\n\u001b[1;32m    873\u001b[0m         \u001b[0;31m# Send the request.\u001b[0m\u001b[0;34m\u001b[0m\u001b[0;34m\u001b[0m\u001b[0m\n\u001b[0;32m--> 874\u001b[0;31m         response = rpc(\n\u001b[0m\u001b[1;32m    875\u001b[0m             \u001b[0mrequest\u001b[0m\u001b[0;34m,\u001b[0m\u001b[0;34m\u001b[0m\u001b[0;34m\u001b[0m\u001b[0m\n\u001b[1;32m    876\u001b[0m             \u001b[0mretry\u001b[0m\u001b[0;34m=\u001b[0m\u001b[0mretry\u001b[0m\u001b[0;34m,\u001b[0m\u001b[0;34m\u001b[0m\u001b[0;34m\u001b[0m\u001b[0m\n",
            "\u001b[0;32m/usr/local/lib/python3.10/dist-packages/google/api_core/gapic_v1/method.py\u001b[0m in \u001b[0;36m__call__\u001b[0;34m(self, timeout, retry, compression, *args, **kwargs)\u001b[0m\n\u001b[1;32m    129\u001b[0m             \u001b[0mkwargs\u001b[0m\u001b[0;34m[\u001b[0m\u001b[0;34m\"compression\"\u001b[0m\u001b[0;34m]\u001b[0m \u001b[0;34m=\u001b[0m \u001b[0mcompression\u001b[0m\u001b[0;34m\u001b[0m\u001b[0;34m\u001b[0m\u001b[0m\n\u001b[1;32m    130\u001b[0m \u001b[0;34m\u001b[0m\u001b[0m\n\u001b[0;32m--> 131\u001b[0;31m         \u001b[0;32mreturn\u001b[0m \u001b[0mwrapped_func\u001b[0m\u001b[0;34m(\u001b[0m\u001b[0;34m*\u001b[0m\u001b[0margs\u001b[0m\u001b[0;34m,\u001b[0m \u001b[0;34m**\u001b[0m\u001b[0mkwargs\u001b[0m\u001b[0;34m)\u001b[0m\u001b[0;34m\u001b[0m\u001b[0;34m\u001b[0m\u001b[0m\n\u001b[0m\u001b[1;32m    132\u001b[0m \u001b[0;34m\u001b[0m\u001b[0m\n\u001b[1;32m    133\u001b[0m \u001b[0;34m\u001b[0m\u001b[0m\n",
            "\u001b[0;32m/usr/local/lib/python3.10/dist-packages/google/api_core/grpc_helpers.py\u001b[0m in \u001b[0;36merror_remapped_callable\u001b[0;34m(*args, **kwargs)\u001b[0m\n\u001b[1;32m     77\u001b[0m     \u001b[0;32mdef\u001b[0m \u001b[0merror_remapped_callable\u001b[0m\u001b[0;34m(\u001b[0m\u001b[0;34m*\u001b[0m\u001b[0margs\u001b[0m\u001b[0;34m,\u001b[0m \u001b[0;34m**\u001b[0m\u001b[0mkwargs\u001b[0m\u001b[0;34m)\u001b[0m\u001b[0;34m:\u001b[0m\u001b[0;34m\u001b[0m\u001b[0;34m\u001b[0m\u001b[0m\n\u001b[1;32m     78\u001b[0m         \u001b[0;32mtry\u001b[0m\u001b[0;34m:\u001b[0m\u001b[0;34m\u001b[0m\u001b[0;34m\u001b[0m\u001b[0m\n\u001b[0;32m---> 79\u001b[0;31m             \u001b[0;32mreturn\u001b[0m \u001b[0mcallable_\u001b[0m\u001b[0;34m(\u001b[0m\u001b[0;34m*\u001b[0m\u001b[0margs\u001b[0m\u001b[0;34m,\u001b[0m \u001b[0;34m**\u001b[0m\u001b[0mkwargs\u001b[0m\u001b[0;34m)\u001b[0m\u001b[0;34m\u001b[0m\u001b[0;34m\u001b[0m\u001b[0m\n\u001b[0m\u001b[1;32m     80\u001b[0m         \u001b[0;32mexcept\u001b[0m \u001b[0mgrpc\u001b[0m\u001b[0;34m.\u001b[0m\u001b[0mRpcError\u001b[0m \u001b[0;32mas\u001b[0m \u001b[0mexc\u001b[0m\u001b[0;34m:\u001b[0m\u001b[0;34m\u001b[0m\u001b[0;34m\u001b[0m\u001b[0m\n\u001b[1;32m     81\u001b[0m             \u001b[0;32mraise\u001b[0m \u001b[0mexceptions\u001b[0m\u001b[0;34m.\u001b[0m\u001b[0mfrom_grpc_error\u001b[0m\u001b[0;34m(\u001b[0m\u001b[0mexc\u001b[0m\u001b[0;34m)\u001b[0m \u001b[0;32mfrom\u001b[0m \u001b[0mexc\u001b[0m\u001b[0;34m\u001b[0m\u001b[0;34m\u001b[0m\u001b[0m\n",
            "\u001b[0;32m/usr/local/lib/python3.10/dist-packages/google/ai/generativelanguage_v1beta/services/cache_service/transports/rest.py\u001b[0m in \u001b[0;36m__call__\u001b[0;34m(self, request, retry, timeout, metadata)\u001b[0m\n\u001b[1;32m    408\u001b[0m             \u001b[0;31m# subclass.\u001b[0m\u001b[0;34m\u001b[0m\u001b[0;34m\u001b[0m\u001b[0m\n\u001b[1;32m    409\u001b[0m             \u001b[0;32mif\u001b[0m \u001b[0mresponse\u001b[0m\u001b[0;34m.\u001b[0m\u001b[0mstatus_code\u001b[0m \u001b[0;34m>=\u001b[0m \u001b[0;36m400\u001b[0m\u001b[0;34m:\u001b[0m\u001b[0;34m\u001b[0m\u001b[0;34m\u001b[0m\u001b[0m\n\u001b[0;32m--> 410\u001b[0;31m                 \u001b[0;32mraise\u001b[0m \u001b[0mcore_exceptions\u001b[0m\u001b[0;34m.\u001b[0m\u001b[0mfrom_http_response\u001b[0m\u001b[0;34m(\u001b[0m\u001b[0mresponse\u001b[0m\u001b[0;34m)\u001b[0m\u001b[0;34m\u001b[0m\u001b[0;34m\u001b[0m\u001b[0m\n\u001b[0m\u001b[1;32m    411\u001b[0m \u001b[0;34m\u001b[0m\u001b[0m\n\u001b[1;32m    412\u001b[0m             \u001b[0;31m# Return the response\u001b[0m\u001b[0;34m\u001b[0m\u001b[0;34m\u001b[0m\u001b[0m\n",
            "\u001b[0;31mBadRequest\u001b[0m: 400 POST https://generativelanguage.googleapis.com/v1beta/cachedContents?%24alt=json%3Benum-encoding%3Dint: Cached content is too small. total_token_count=19915, min_total_token_count=32768"
          ]
        }
      ]
    },
    {
      "cell_type": "code",
      "source": [
        "video_file = genai.get_file(name='files/ym2cmkt0fp2c')\n",
        "print(f\"Retrieved file '{video_file.display_name}' as: {video_file.uri}\")"
      ],
      "metadata": {
        "colab": {
          "base_uri": "https://localhost:8080/",
          "height": 35
        },
        "id": "MGNHZfrfBNDD",
        "outputId": "a90feb5e-4daf-41b5-fed8-ee7fd6aae289"
      },
      "execution_count": null,
      "outputs": [
        {
          "output_type": "stream",
          "name": "stdout",
          "text": [
            "Retrieved file 'Video 31.mov' as: https://generativelanguage.googleapis.com/v1beta/files/ym2cmkt0fp2c\n"
          ]
        }
      ]
    },
    {
      "cell_type": "code",
      "source": [
        "video_cache = caching.CachedContent.create(\n",
        "    model=model_name,\n",
        "    system_instruction=\"Eres un experto en analizis de contenido para youtube\",\n",
        "    contents=[video_file],\n",
        ")\n",
        "\n",
        "video_cache"
      ],
      "metadata": {
        "colab": {
          "base_uri": "https://localhost:8080/",
          "height": 212
        },
        "id": "pwB_iw5u8B1t",
        "outputId": "cdf22c14-4922-4b77-e8a1-99c18dc623e8"
      },
      "execution_count": null,
      "outputs": [
        {
          "output_type": "execute_result",
          "data": {
            "text/plain": [
              "CachedContent(\n",
              "    name='cachedContents/kxaa950coiht',\n",
              "    model='models/gemini-1.5-flash-001',\n",
              "    display_name='',\n",
              "    usage_metadata={\n",
              "        'total_token_count': 183206,\n",
              "    },\n",
              "    create_time=2024-07-14 02:17:30.487580+00:00,\n",
              "    update_time=2024-07-14 02:17:30.487580+00:00,\n",
              "    expire_time=2024-07-14 03:17:17.301689+00:00\n",
              ")"
            ]
          },
          "metadata": {},
          "execution_count": 104
        }
      ]
    },
    {
      "cell_type": "code",
      "source": [
        "import datetime\n",
        "\n",
        "video_cache.update(ttl=datetime.timedelta(hours=1))\n",
        "video_cache"
      ],
      "metadata": {
        "colab": {
          "base_uri": "https://localhost:8080/",
          "height": 212
        },
        "id": "gAezfBNluHax",
        "outputId": "023d18c5-c8aa-4979-e768-4454da4ae7b9"
      },
      "execution_count": null,
      "outputs": [
        {
          "output_type": "execute_result",
          "data": {
            "text/plain": [
              "CachedContent(\n",
              "    name='cachedContents/kxaa950coiht',\n",
              "    model='models/gemini-1.5-flash-001',\n",
              "    display_name='',\n",
              "    usage_metadata={\n",
              "        'total_token_count': 183206,\n",
              "    },\n",
              "    create_time=2024-07-14 02:17:30.487580+00:00,\n",
              "    update_time=2024-07-14 02:18:38.756797+00:00,\n",
              "    expire_time=2024-07-14 03:18:38.748362+00:00\n",
              ")"
            ]
          },
          "metadata": {},
          "execution_count": 105
        }
      ]
    },
    {
      "cell_type": "code",
      "source": [
        "video_model = genai.GenerativeModel.from_cached_content(cached_content=video_cache)\n",
        "\n",
        "response = video_model.generate_content(\"Que es criticgpt?\")\n",
        "print(response.text)"
      ],
      "metadata": {
        "colab": {
          "base_uri": "https://localhost:8080/",
          "height": 144
        },
        "id": "q63qiz99sDrj",
        "outputId": "70ac9f55-5407-4cec-cf21-104e115496cf"
      },
      "execution_count": null,
      "outputs": [
        {
          "output_type": "stream",
          "name": "stdout",
          "text": [
            "CriticGPT es un modelo de lenguaje de IA desarrollado por OpenAI, diseñado para ayudar a mejorar la precisión y calidad del código generado por otros modelos de IA, como ChatGPT y otros modelos de IA.\n",
            "\n",
            "Básicamente, CriticGPT funciona como un \"editor\" de código. Se le da el código generado por otro modelo de IA y CriticGPT lo analiza para identificar errores, inconsistencias o áreas donde el código podría mejorarse.\n",
            "\n",
            "¿Quieres saber más sobre CriticGPT? Avísame y puedo contarte más sobre sus características, usos y cómo funciona. \n",
            "\n"
          ]
        }
      ]
    },
    {
      "cell_type": "code",
      "source": [
        "response.usage_metadata"
      ],
      "metadata": {
        "colab": {
          "base_uri": "https://localhost:8080/"
        },
        "id": "pkAeocgZuFsS",
        "outputId": "590e7eaa-be60-46d0-ce8f-afcf9151ca19"
      },
      "execution_count": null,
      "outputs": [
        {
          "output_type": "execute_result",
          "data": {
            "text/plain": [
              "prompt_token_count: 183212\n",
              "candidates_token_count: 113\n",
              "total_token_count: 183325\n",
              "cached_content_token_count: 183206"
            ]
          },
          "metadata": {},
          "execution_count": 107
        }
      ]
    },
    {
      "cell_type": "code",
      "source": [
        "chat = video_model.start_chat()\n",
        "response = chat.send_message(\"Dame el top 3 de frases mas importantes en el video\")\n",
        "print(response.text)"
      ],
      "metadata": {
        "colab": {
          "base_uri": "https://localhost:8080/",
          "height": 144
        },
        "id": "qJIJXAwvrw2G",
        "outputId": "312d955c-21cb-4783-928e-cd0c1a32e2e5"
      },
      "execution_count": null,
      "outputs": [
        {
          "output_type": "stream",
          "name": "stdout",
          "text": [
            "Las 3 frases mas importantes en el video son:\n",
            "\n",
            "1. **\"El equipo de OpenAI nos entrega CriticGPT, un modelo de inteligencia artificial que su único objetivo es ayudar a, literalmente, criticar a otra inteligencia artificial.\"** \n",
            "2. **\"Eso hace que sus respuestas no siempre sean las mejores, incluso que sean totalmente falsas.\"**\n",
            "3. **\"La suma de humanos mas inteligencia artificial hace que se potencie este trabajo, y las métricas hablan por si solas.\"** \n",
            "\n"
          ]
        }
      ]
    },
    {
      "cell_type": "code",
      "source": [
        "response.usage_metadata"
      ],
      "metadata": {
        "colab": {
          "base_uri": "https://localhost:8080/"
        },
        "id": "r1Ij815HuGaC",
        "outputId": "295e4618-f655-4f4d-ffde-eef65c64484c"
      },
      "execution_count": null,
      "outputs": [
        {
          "output_type": "execute_result",
          "data": {
            "text/plain": [
              "prompt_token_count: 183219\n",
              "candidates_token_count: 103\n",
              "total_token_count: 183322\n",
              "cached_content_token_count: 183206"
            ]
          },
          "metadata": {},
          "execution_count": 109
        }
      ]
    },
    {
      "cell_type": "code",
      "source": [
        "print(video_cache.name)\n",
        "video_cache.delete()"
      ],
      "metadata": {
        "colab": {
          "base_uri": "https://localhost:8080/",
          "height": 35
        },
        "id": "zcn3h-oLr8oC",
        "outputId": "de052370-c25d-4563-8b40-6d5b14a94f93"
      },
      "execution_count": null,
      "outputs": [
        {
          "output_type": "stream",
          "name": "stdout",
          "text": [
            "cachedContents/kxaa950coiht\n"
          ]
        }
      ]
    }
  ]
}